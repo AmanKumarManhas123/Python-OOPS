{
  "nbformat": 4,
  "nbformat_minor": 0,
  "metadata": {
    "colab": {
      "provenance": []
    },
    "kernelspec": {
      "name": "python3",
      "display_name": "Python 3"
    },
    "language_info": {
      "name": "python"
    }
  },
  "cells": [
    {
      "cell_type": "markdown",
      "source": [
        "# Python OOPs Assignment\n",
        "- Aman Kumar Manhas\n",
        "# 1. What is Object-Oriented Programming (OOP)?\n",
        "- OOP is a programming paradigm(way of writing and organizing code) based on the concept of \"objects\" which contain data (attributes) and code (methods). It promotes reusability, scalability, and modularity. Core principles include encapsulation, inheritance, abstraction, and polymorphism.\n",
        "\n",
        "\n",
        "# 2. What is a class in OOP?\n",
        "- A class is a blueprint or template for creating objects. It defines attributes and behaviors (methods) common to all objects of that type.\n",
        "\n",
        "\n",
        "# 3. What is an object in OOP?\n",
        "- An object is an instance of a class. It holds actual values for the attributes defined in the class and can perform actions using its methods.\n",
        "\n",
        "\n",
        "# 4. What is the difference between abstraction and encapsulation?\n",
        "- Abstraction hides the internal implementation and shows only functionality (using abstract classes/methods).\n",
        "\n",
        "Encapsulation hides internal object details using private/protected members and exposes only necessary parts via methods (getters/setters).\n",
        "\n",
        "\n",
        "# 5. What are dunder methods in Python?\n",
        "- Dunder (Double Underscore) methods like __init__, __str__, __add__ are special methods used to overload operators or define behavior for built-in functions.\n",
        "\n",
        "\n",
        "# 6. Explain the concept of inheritance in OOP.\n",
        "- Inheritance allows one class (child) to inherit attributes and methods from another (parent). It promotes code reuse.\n",
        "\n",
        "\n",
        "# 7. What is polymorphism in OOP?\n",
        "- Polymorphism allows objects of different classes to be treated as objects of a common superclass. It lets the same method name behave differently depending on the object.\n",
        "\n",
        "\n",
        "# 8. How is encapsulation achieved in Python?\n",
        "- Using private (__var) and protected (_var) attributes and methods. Public methods like getters and setters allow controlled access.\n",
        "\n",
        "\n",
        "# 9. What is a constructor in Python?\n",
        "- The __init__() method is a constructor used to initialize object attributes during object creation.\n",
        "\n",
        "\n",
        "# 10. What are class and static methods in Python?\n",
        "- Class method uses @classmethod and receives cls as the first argument.\n",
        "- Static method uses @staticmethod and does not take self or cls.\n",
        "\n",
        "\n",
        "# 11. What is method overloading in Python?\n",
        "- Python doesn’t support true method overloading; it uses default or variable-length arguments to simulate overloading.\n",
        "\n",
        "\n",
        "# 12. What is method overriding in OOP?\n",
        "- Python doesn’t support true method overloading; it uses default or variable-length arguments to simulate overloading.\n",
        "\n",
        "\n",
        "# 13. What is a property decorator in Python?\n",
        "- The @property decorator lets you define a method as a read-only attribute.\n",
        "\n",
        "\n",
        "# 14. Why is polymorphism important in OOP?\n",
        "- It enables flexibility and reusability in code by allowing the same interface to behave differently for different data types or classes.\n",
        "\n",
        "\n",
        "# 15. What is an abstract class in Python?\n",
        "- An abstract class (using abc module) contains one or more abstract methods and cannot be instantiated.\n",
        "\n",
        "\n",
        "# 16. What are the advantages of OOP?\n",
        "- Reusability (Write once, use many times)\n",
        "- Modularity (Organized code)\n",
        "- Encapsulation (Data hiding and security)\n",
        "- Abstraction (Hide unnecessary details)\n",
        "- Inheritance (Code Reuse between classes)\n",
        "- Polymorphism (Same Name, different behaviour)\n",
        "- Maintainability (Easier to update and debug)\n",
        "- Scalability and Real world mapping ( Easy to grow and Closer to real life)\n",
        "\n",
        "\n",
        "# 17. What is the difference between a class variable and an instance variable?\n",
        "- A variable belongs to the class variable and is shared across all instances.\n",
        "or shared by all objects.\n",
        "- A variable that belongs to each object separately (defined inside __init__) a and Instance variable is unique for each object.\n",
        "\n",
        "\n",
        "# 18. What is multiple inheritance in Python?\n",
        "- When a class inherits from more than one parent class.\n",
        "\n",
        "\n",
        "# 19. Explain the purpose of ‘’__str__’ and ‘__repr__’ ‘ methods in Python.\n",
        "- __str__ returns a user-friendly string and defines that what should be shown when we print the object or how the object should look when shown to a normal user(simple,readable).\n",
        "- __repr__ returns a developer-friendly string for debugging and defines that what should be shown when we inspect the object(eg. in debugging or in a list)\n",
        "and how the object should be displayed to a developer or programmer, including technical detail if needed.\n",
        "\n",
        "\n",
        "# 20. What is the significance of the ‘super()’ function in Python?\n",
        "- It allows access to parent class methods and constructors from the child class.\n",
        "\n",
        "\n",
        "# 21. What is the significance of the __del__ method in Python?\n",
        "- It is a destructor method called when an object is deleted to clean up resources.\n",
        "\n",
        "\n",
        "# 22. What is the difference between @staticmethod and @classmethod in Python?\n",
        "- @staticmethod: No access to class or instance (self, cls).\n",
        "- used for utility methods.\n",
        "\n",
        "- @classmethod: Can access class state via cls.\n",
        "- used to work with class state.\n",
        "\n",
        "\n",
        "# 23. How does polymorphism work in Python with inheritance?\n",
        "- Child classes override methods from the parent class. Calling these methods via a parent reference runs the child’s version.\n",
        "\n",
        "\n",
        "# 24. What is method chaining in Python OOP?\n",
        "- Calling multiple methods sequentially in one line using the returned object (return self).\n",
        "\n",
        "\n",
        "# 25. What is the purpose of the __call__ method in Python?\n",
        "- Allows an object to be called like a function."
      ],
      "metadata": {
        "id": "-LVEp1HPT1PQ"
      }
    },
    {
      "cell_type": "markdown",
      "source": [
        "1. Create a parent class Animal with a method speak() that prints a generic message. Create a child class Dog\n",
        "that overrides the speak() method to print \"Bark!\"."
      ],
      "metadata": {
        "id": "akfPqU4is8VO"
      }
    },
    {
      "cell_type": "code",
      "execution_count": null,
      "metadata": {
        "id": "2TmR1eeeRyNc"
      },
      "outputs": [],
      "source": [
        "class Animal:\n",
        "  def speak(self):\n",
        "    print(\"animal speaks\")\n",
        "class Dog(Animal):\n",
        "  def speak(self):\n",
        "    print(\"the dog barks\")"
      ]
    },
    {
      "cell_type": "code",
      "source": [
        "d1 = Dog()\n",
        "d1.speak()"
      ],
      "metadata": {
        "colab": {
          "base_uri": "https://localhost:8080/"
        },
        "id": "0eK-KxxMuyfc",
        "outputId": "d56f9a21-5940-4e12-ec29-ee10bba68754"
      },
      "execution_count": null,
      "outputs": [
        {
          "output_type": "stream",
          "name": "stdout",
          "text": [
            "the dog barks\n"
          ]
        }
      ]
    },
    {
      "cell_type": "markdown",
      "source": [
        " 2. Write a program to create an abstract class Shape with a method area(). Derive classes Circle and Rectangle\n",
        "from it and implement the area() method in both."
      ],
      "metadata": {
        "id": "-7d72HXUu9MD"
      }
    },
    {
      "cell_type": "code",
      "source": [
        "from abc import ABC, abstractmethod\n",
        "class Shape:\n",
        "  def area(self):\n",
        "    pass\n",
        "class Circle(Shape):\n",
        "  def area(self,radius):\n",
        "    self.radius = radius\n",
        "    print(\"the area of circle is =>\", 3.14 * self.radius * self.radius)\n",
        "class Rectangle(Shape):\n",
        "  def area(self,length,breadth):\n",
        "    self.length = length\n",
        "    self.breadth = breadth\n",
        "    print(\"the area of rectangle is =>\",self.length * self.breadth)"
      ],
      "metadata": {
        "id": "a5ss0Ufdu4B3"
      },
      "execution_count": null,
      "outputs": []
    },
    {
      "cell_type": "code",
      "source": [
        "c1 = Circle()\n",
        "c1.area(5)"
      ],
      "metadata": {
        "colab": {
          "base_uri": "https://localhost:8080/"
        },
        "id": "uQ2FyeOt2izK",
        "outputId": "b0cfff21-74fd-40b3-cae7-2a5a6bdbc7b6"
      },
      "execution_count": null,
      "outputs": [
        {
          "output_type": "stream",
          "name": "stdout",
          "text": [
            "the area of circle is => 78.5\n"
          ]
        }
      ]
    },
    {
      "cell_type": "code",
      "source": [
        "r1 = Rectangle()\n",
        "r1.area(5,3)"
      ],
      "metadata": {
        "colab": {
          "base_uri": "https://localhost:8080/"
        },
        "id": "hwh3Pb002uiC",
        "outputId": "224c1814-7a2f-405c-d26d-84ab3b6915bd"
      },
      "execution_count": null,
      "outputs": [
        {
          "output_type": "stream",
          "name": "stdout",
          "text": [
            "the area of rectangle is => 15\n"
          ]
        }
      ]
    },
    {
      "cell_type": "markdown",
      "source": [
        " 3. Implement a multi-level inheritance scenario where a class Vehicle has an attribute type. Derive a class Car\n",
        "and further derive a class ElectricCar that adds a battery attribute."
      ],
      "metadata": {
        "id": "t_Y2A3Cn25d0"
      }
    },
    {
      "cell_type": "code",
      "source": [
        "class Vehicle:\n",
        "  def __init__(self,type):\n",
        "    self.type = type\n",
        "    print(\"the type of vehicle is =>\",self.type)\n",
        "class Car(Vehicle):\n",
        "  pass\n",
        "class Electric_Car(Car):\n",
        "  def __init__(self,type,battery):\n",
        "    super().__init__(type)\n",
        "    self.battery = battery\n",
        "    print(\"the batttery of the electric car is =>\",self.battery)"
      ],
      "metadata": {
        "id": "nVJKTCtE26vb"
      },
      "execution_count": null,
      "outputs": []
    },
    {
      "cell_type": "code",
      "source": [
        "e1 = Electric_Car(\"electric\",\"5000 MAH\")"
      ],
      "metadata": {
        "colab": {
          "base_uri": "https://localhost:8080/"
        },
        "id": "Oc0TgGjV5TSm",
        "outputId": "2d6b9915-3aaa-40ae-cdc1-e693b680b90f"
      },
      "execution_count": null,
      "outputs": [
        {
          "output_type": "stream",
          "name": "stdout",
          "text": [
            "the type of vehicle is => electric\n",
            "the batttery of the electric car is => 5000 MAH\n"
          ]
        }
      ]
    },
    {
      "cell_type": "code",
      "source": [
        "c1 = Car(\"petrol\")"
      ],
      "metadata": {
        "colab": {
          "base_uri": "https://localhost:8080/"
        },
        "id": "ObhGOS8d5s5F",
        "outputId": "d6211494-ee4d-4775-fcdf-13867086e3e0"
      },
      "execution_count": null,
      "outputs": [
        {
          "output_type": "stream",
          "name": "stdout",
          "text": [
            "the type of vehicle is => petrol\n"
          ]
        }
      ]
    },
    {
      "cell_type": "markdown",
      "source": [
        " 4. Demonstrate polymorphism by creating a base class Bird with a method fly(). Create two derived classes\n",
        "Sparrow and Penguin that override the fly() method."
      ],
      "metadata": {
        "id": "MGjQStSx5-ab"
      }
    },
    {
      "cell_type": "code",
      "source": [
        "class Bird:\n",
        "  def fly(self):\n",
        "    print(\"birds can fly\")\n",
        "class Sparrow(Bird):\n",
        "  def fly(self):\n",
        "    print(\"sparrow can fly\")\n",
        "class Penguin(Bird):\n",
        "  def fly(self):\n",
        "    print(\"penguin can't fly\")"
      ],
      "metadata": {
        "id": "if0TJA466BPe"
      },
      "execution_count": null,
      "outputs": []
    },
    {
      "cell_type": "code",
      "source": [
        "p1 = Penguin()\n",
        "p1.fly()"
      ],
      "metadata": {
        "colab": {
          "base_uri": "https://localhost:8080/"
        },
        "id": "9v9qIelk8PLk",
        "outputId": "6629edea-5713-470d-bb64-edc904bf522e"
      },
      "execution_count": null,
      "outputs": [
        {
          "output_type": "stream",
          "name": "stdout",
          "text": [
            "penguin can't fly\n"
          ]
        }
      ]
    },
    {
      "cell_type": "code",
      "source": [
        "s1 = Sparrow()\n",
        "s1.fly()"
      ],
      "metadata": {
        "colab": {
          "base_uri": "https://localhost:8080/"
        },
        "id": "_yKlWr008chW",
        "outputId": "9a3caae6-9b50-4528-98ee-224162e43b4c"
      },
      "execution_count": null,
      "outputs": [
        {
          "output_type": "stream",
          "name": "stdout",
          "text": [
            "sparrow can fly\n"
          ]
        }
      ]
    },
    {
      "cell_type": "markdown",
      "source": [
        "5. Write a program to demonstrate encapsulation by creating a class BankAccount with private attributes\n",
        "balance and methods to deposit, withdraw, and check balance."
      ],
      "metadata": {
        "id": "fYpuKwxt9lnT"
      }
    },
    {
      "cell_type": "code",
      "source": [
        "class BankAccount:\n",
        "  def __init__(self,balance = 0):\n",
        "    self.__balance = balance\n",
        "  def Deposit(self,amount):\n",
        "    self.__balance = self.__balance + amount\n",
        "  def Withdraw(self,amount):\n",
        "    if(amount < self.__balance):\n",
        "      self.__balance = self.__balance - amount\n",
        "    else:\n",
        "      print(\"insufficient balance\")\n",
        "  def Check_Balance(self):\n",
        "    print(\"the balance is =>\",self.__balance)"
      ],
      "metadata": {
        "id": "a5Iufnx69tM7"
      },
      "execution_count": null,
      "outputs": []
    },
    {
      "cell_type": "code",
      "source": [
        "ba = BankAccount(1000)\n",
        "ba.Check_Balance()"
      ],
      "metadata": {
        "colab": {
          "base_uri": "https://localhost:8080/"
        },
        "id": "2iD000lvBz0m",
        "outputId": "e9cb81d3-417e-4455-a0f1-f2ae8dc2ae9c"
      },
      "execution_count": null,
      "outputs": [
        {
          "output_type": "stream",
          "name": "stdout",
          "text": [
            "the balance is => 1000\n"
          ]
        }
      ]
    },
    {
      "cell_type": "code",
      "source": [
        "ba.Deposit(2000)\n",
        "ba.Check_Balance()"
      ],
      "metadata": {
        "colab": {
          "base_uri": "https://localhost:8080/"
        },
        "id": "o8Cl5YxJB9hg",
        "outputId": "1b47086b-fb90-4230-dd2f-2f5b163f01bd"
      },
      "execution_count": null,
      "outputs": [
        {
          "output_type": "stream",
          "name": "stdout",
          "text": [
            "the balance is => 3000\n"
          ]
        }
      ]
    },
    {
      "cell_type": "code",
      "source": [
        "ba.Withdraw(1500)\n",
        "ba.Check_Balance()"
      ],
      "metadata": {
        "colab": {
          "base_uri": "https://localhost:8080/"
        },
        "id": "PGlh8216CNVx",
        "outputId": "88c76e78-7c39-48a8-e1ad-9dacddb30d67"
      },
      "execution_count": null,
      "outputs": [
        {
          "output_type": "stream",
          "name": "stdout",
          "text": [
            "the balance is => 1500\n"
          ]
        }
      ]
    },
    {
      "cell_type": "markdown",
      "source": [
        "6. Demonstrate runtime polymorphism using a method play() in a base class Instrument. Derive classes Guitar\n",
        "and Piano that implement their own version of play()."
      ],
      "metadata": {
        "id": "WX4AWYaU2S21"
      }
    },
    {
      "cell_type": "code",
      "source": [
        "class Instrument:\n",
        "  def play(self):\n",
        "    print(\"an instrument plays music\")\n",
        "class Guitar(Instrument):\n",
        "  def play(self):\n",
        "    print(\"the guitar is an instrument of music\")\n",
        "class Piano(Instrument):\n",
        "  def play(self):\n",
        "    print(\"the piano is also an instrument of music\")"
      ],
      "metadata": {
        "id": "OnpSV8Y12UBe"
      },
      "execution_count": null,
      "outputs": []
    },
    {
      "cell_type": "code",
      "source": [
        "i1 = Instrument()\n",
        "i1.play()"
      ],
      "metadata": {
        "colab": {
          "base_uri": "https://localhost:8080/"
        },
        "id": "QlYVuJjU4Dz8",
        "outputId": "f07c3973-d7c0-4500-af31-841943298829"
      },
      "execution_count": null,
      "outputs": [
        {
          "output_type": "stream",
          "name": "stdout",
          "text": [
            "an instrument plays music\n"
          ]
        }
      ]
    },
    {
      "cell_type": "code",
      "source": [
        "g1 = Guitar()\n",
        "g1.play()"
      ],
      "metadata": {
        "colab": {
          "base_uri": "https://localhost:8080/"
        },
        "id": "eZqxyfha4agP",
        "outputId": "bd79cf4a-8f81-4f1d-b3be-890861854c89"
      },
      "execution_count": null,
      "outputs": [
        {
          "output_type": "stream",
          "name": "stdout",
          "text": [
            "the guitar is an instrument of music\n"
          ]
        }
      ]
    },
    {
      "cell_type": "code",
      "source": [
        "p1 = Piano()\n",
        "p1.play()"
      ],
      "metadata": {
        "colab": {
          "base_uri": "https://localhost:8080/"
        },
        "id": "FKeoD75S4fRM",
        "outputId": "291f91e8-f194-4b87-efee-f32741fc7493"
      },
      "execution_count": null,
      "outputs": [
        {
          "output_type": "stream",
          "name": "stdout",
          "text": [
            "the piano is also an instrument of music\n"
          ]
        }
      ]
    },
    {
      "cell_type": "markdown",
      "source": [
        " 7. Create a class MathOperations with a class method add_numbers() to add two numbers and a static method subtract_numbers() to subtract two numbers"
      ],
      "metadata": {
        "id": "rak_a0xg456r"
      }
    },
    {
      "cell_type": "code",
      "source": [
        "class MathOperations:\n",
        "  @classmethod\n",
        "  def add_numbers(cls,a,b):\n",
        "    return a+b\n",
        "  @staticmethod\n",
        "  def sub_numbers(a,b):\n",
        "    return a-b"
      ],
      "metadata": {
        "id": "7LO11E8645dm"
      },
      "execution_count": null,
      "outputs": []
    },
    {
      "cell_type": "code",
      "source": [
        "MathOperations.add_numbers(5,3)"
      ],
      "metadata": {
        "colab": {
          "base_uri": "https://localhost:8080/"
        },
        "id": "hEoHpLlC5tVm",
        "outputId": "d0a4f72a-2627-4387-ad99-9906fe3af828"
      },
      "execution_count": null,
      "outputs": [
        {
          "output_type": "execute_result",
          "data": {
            "text/plain": [
              "8"
            ]
          },
          "metadata": {},
          "execution_count": 20
        }
      ]
    },
    {
      "cell_type": "code",
      "source": [
        "MathOperations.sub_numbers(5,3)"
      ],
      "metadata": {
        "colab": {
          "base_uri": "https://localhost:8080/"
        },
        "id": "E6OzzIze6Aeq",
        "outputId": "5b3e189f-7d1c-489b-b619-02025d21c3e8"
      },
      "execution_count": null,
      "outputs": [
        {
          "output_type": "execute_result",
          "data": {
            "text/plain": [
              "2"
            ]
          },
          "metadata": {},
          "execution_count": 22
        }
      ]
    },
    {
      "cell_type": "markdown",
      "source": [
        "8. Implement a class Person with a class method to count the total number of persons created."
      ],
      "metadata": {
        "id": "w8bxPrEI7ck0"
      }
    },
    {
      "cell_type": "code",
      "source": [
        "class Person:\n",
        "    count = 0\n",
        "    def __init__(self,name):\n",
        "      self.name = name\n",
        "      Person.count += 1\n",
        "    @classmethod\n",
        "    def total_persons(cls):\n",
        "        return cls.count"
      ],
      "metadata": {
        "id": "fj_V-RfE7byK"
      },
      "execution_count": null,
      "outputs": []
    },
    {
      "cell_type": "code",
      "source": [
        "p1 = Person(\"Aman\")\n",
        "p2 = Person(\"Vishal\")\n",
        "p3 = Person(\"Kanu\")"
      ],
      "metadata": {
        "id": "0q7WO-0n8KrJ"
      },
      "execution_count": null,
      "outputs": []
    },
    {
      "cell_type": "code",
      "source": [
        "p1.total_persons()"
      ],
      "metadata": {
        "colab": {
          "base_uri": "https://localhost:8080/"
        },
        "id": "cOu0pa_a8Ps7",
        "outputId": "538e6132-5d78-4b16-ba6a-64fcda55b2cd"
      },
      "execution_count": null,
      "outputs": [
        {
          "output_type": "execute_result",
          "data": {
            "text/plain": [
              "3"
            ]
          },
          "metadata": {},
          "execution_count": 45
        }
      ]
    },
    {
      "cell_type": "code",
      "source": [
        "print(\"the total no of persons are =>\",Person.total_persons())"
      ],
      "metadata": {
        "colab": {
          "base_uri": "https://localhost:8080/"
        },
        "id": "jOlw5L-o_DqG",
        "outputId": "8ecce290-e298-4aae-d852-b7545f2b1cc0"
      },
      "execution_count": null,
      "outputs": [
        {
          "output_type": "stream",
          "name": "stdout",
          "text": [
            "the total no of persons are => 3\n"
          ]
        }
      ]
    },
    {
      "cell_type": "markdown",
      "source": [
        " 9. Write a class Fraction with attributes numerator and denominator. Override the str method to display the fraction as \"numerator/denominator\"."
      ],
      "metadata": {
        "id": "m8o6I-78_sEl"
      }
    },
    {
      "cell_type": "code",
      "source": [
        "class Fraction:\n",
        "  def __init__(self,num,den):\n",
        "    self.num = num\n",
        "    self.den = den\n",
        "  def __str__(self):\n",
        "    return f\"{self.num}/{self.den}\""
      ],
      "metadata": {
        "id": "J_01wqV0_rQ9"
      },
      "execution_count": null,
      "outputs": []
    },
    {
      "cell_type": "code",
      "source": [
        "f1 = Fraction(3,5)\n",
        "print(f1)"
      ],
      "metadata": {
        "colab": {
          "base_uri": "https://localhost:8080/"
        },
        "id": "P0tF1VRWBq4v",
        "outputId": "5051c543-8dca-4a37-b9d1-6c7a190e9a1a"
      },
      "execution_count": null,
      "outputs": [
        {
          "output_type": "stream",
          "name": "stdout",
          "text": [
            "3/5\n"
          ]
        }
      ]
    },
    {
      "cell_type": "code",
      "source": [
        "f1.__str__()"
      ],
      "metadata": {
        "colab": {
          "base_uri": "https://localhost:8080/",
          "height": 36
        },
        "id": "7FtGiy5AB98N",
        "outputId": "290bfd42-236c-4b3b-b0ca-826b71b08572"
      },
      "execution_count": null,
      "outputs": [
        {
          "output_type": "execute_result",
          "data": {
            "text/plain": [
              "'3/5'"
            ],
            "application/vnd.google.colaboratory.intrinsic+json": {
              "type": "string"
            }
          },
          "metadata": {},
          "execution_count": 57
        }
      ]
    },
    {
      "cell_type": "code",
      "source": [
        "print(f1.__str__())"
      ],
      "metadata": {
        "colab": {
          "base_uri": "https://localhost:8080/"
        },
        "id": "CJdRAxSqCNR6",
        "outputId": "46556799-fe3a-4b82-f0e6-ffb9b411a39f"
      },
      "execution_count": null,
      "outputs": [
        {
          "output_type": "stream",
          "name": "stdout",
          "text": [
            "3/5\n"
          ]
        }
      ]
    },
    {
      "cell_type": "markdown",
      "source": [
        " 10. Demonstrate operator overloading by creating a class Vector and overriding the add method to add two vectors."
      ],
      "metadata": {
        "id": "U1MWvAEmCi9e"
      }
    },
    {
      "cell_type": "code",
      "source": [
        "class Vector:\n",
        "  def __init__(self,x,y):\n",
        "    self.x = x\n",
        "    self.y = y\n",
        "  def __add__(self,other):\n",
        "    return Vector(self.x + other.x ,self.y + other.y)\n",
        "  def __str__(self):\n",
        "    return f\"{self.x},{self.y}\""
      ],
      "metadata": {
        "id": "QbXoW_aICiqq"
      },
      "execution_count": null,
      "outputs": []
    },
    {
      "cell_type": "code",
      "source": [
        "v1 = Vector(5,3)\n",
        "v2 = Vector(3,4)"
      ],
      "metadata": {
        "id": "StOmDS6kFZEE"
      },
      "execution_count": null,
      "outputs": []
    },
    {
      "cell_type": "code",
      "source": [
        "v3 = v1 + v2"
      ],
      "metadata": {
        "id": "1nkD_jpvFcKC"
      },
      "execution_count": null,
      "outputs": []
    },
    {
      "cell_type": "code",
      "source": [
        "print(v3)"
      ],
      "metadata": {
        "colab": {
          "base_uri": "https://localhost:8080/"
        },
        "id": "QG6uHqywFfaj",
        "outputId": "6d8ef8e2-7820-4e3f-e6bb-2b6990b57898"
      },
      "execution_count": null,
      "outputs": [
        {
          "output_type": "stream",
          "name": "stdout",
          "text": [
            "8,7\n"
          ]
        }
      ]
    },
    {
      "cell_type": "markdown",
      "source": [
        " 11. Create a class Person with attributes name and age. Add a method greet() that prints \"Hello, my name is {name} and I am {age} years old.\""
      ],
      "metadata": {
        "id": "N0FvVixvG6hw"
      }
    },
    {
      "cell_type": "code",
      "source": [
        "class Person:\n",
        "  def __init__(self,name,age):\n",
        "    self.name = name\n",
        "    self.age = age\n",
        "  def greet(self):\n",
        "    print(f\"Hello, my name is {self.name} and i am {self.age} years old.\")"
      ],
      "metadata": {
        "id": "rTktal_rG942"
      },
      "execution_count": null,
      "outputs": []
    },
    {
      "cell_type": "code",
      "source": [
        "p1 = Person(\"Aman Kumar Manhas\",24)\n",
        "p1.greet()"
      ],
      "metadata": {
        "colab": {
          "base_uri": "https://localhost:8080/"
        },
        "id": "zmtjs0egHt3e",
        "outputId": "0e92cecf-8dcf-4e0c-9e9f-7e5d0d0c063b"
      },
      "execution_count": null,
      "outputs": [
        {
          "output_type": "stream",
          "name": "stdout",
          "text": [
            "Hello, my name is Aman Kumar Manhas and i am 24 years old.\n"
          ]
        }
      ]
    },
    {
      "cell_type": "markdown",
      "source": [
        " 12. Implement a class Student with attributes name and grades. Create a method average_grade() to compute the average of the grades."
      ],
      "metadata": {
        "id": "ReLmuiodICNU"
      }
    },
    {
      "cell_type": "code",
      "source": [
        "class Student:\n",
        "  def __init__(self,name,grades):\n",
        "    self.name = name\n",
        "    self.grades = grades\n",
        "  def averag_grade(self):\n",
        "    return sum(self.grades)/len(self.grades)"
      ],
      "metadata": {
        "id": "tb8r1-WbIEHE"
      },
      "execution_count": null,
      "outputs": []
    },
    {
      "cell_type": "code",
      "source": [
        "s1 = Student(\"aman\",[90,95,92])\n",
        "s1.averag_grade()"
      ],
      "metadata": {
        "colab": {
          "base_uri": "https://localhost:8080/"
        },
        "id": "vNVG6nHcInjz",
        "outputId": "32b4b0dd-1661-4be7-ca10-78df8e3952c4"
      },
      "execution_count": null,
      "outputs": [
        {
          "output_type": "execute_result",
          "data": {
            "text/plain": [
              "92.33333333333333"
            ]
          },
          "metadata": {},
          "execution_count": 81
        }
      ]
    },
    {
      "cell_type": "markdown",
      "source": [
        " 13. Create a class Rectangle with methods set_dimensions() to set the dimensions and area() to calculate the area."
      ],
      "metadata": {
        "id": "RgWvhOxmI4NN"
      }
    },
    {
      "cell_type": "code",
      "source": [
        "class Rectangle:\n",
        "  def set_dimensions(self,length,breadth):\n",
        "    self.length = length\n",
        "    self.breadth = breadth\n",
        "  def area(self):\n",
        "    return self.length * self.breadth"
      ],
      "metadata": {
        "id": "dDjpiWeRI6-J"
      },
      "execution_count": null,
      "outputs": []
    },
    {
      "cell_type": "code",
      "source": [
        "r1 = Rectangle()"
      ],
      "metadata": {
        "id": "EaBVKwJXJ7bN"
      },
      "execution_count": null,
      "outputs": []
    },
    {
      "cell_type": "code",
      "source": [
        "r1.set_dimensions(5,3)"
      ],
      "metadata": {
        "id": "xZkMwHPrKtIb"
      },
      "execution_count": null,
      "outputs": []
    },
    {
      "cell_type": "code",
      "source": [
        "r1.area()"
      ],
      "metadata": {
        "colab": {
          "base_uri": "https://localhost:8080/"
        },
        "id": "D7lwG6NuKvSe",
        "outputId": "6a8c9f6d-b961-493f-ce9b-9f8480ab4361"
      },
      "execution_count": null,
      "outputs": [
        {
          "output_type": "execute_result",
          "data": {
            "text/plain": [
              "15"
            ]
          },
          "metadata": {},
          "execution_count": 88
        }
      ]
    },
    {
      "cell_type": "markdown",
      "source": [
        " 14. Create a class Employee with a method calculate_salary() that computes the salary based on hours worked and hourly rate. Create a derived class Manager that adds a bonus to the salary."
      ],
      "metadata": {
        "id": "jNRv6tc9LOqf"
      }
    },
    {
      "cell_type": "code",
      "source": [
        "class Employee:\n",
        "  def calculate_salary(self,hours,rate):\n",
        "    self.hours = hours\n",
        "    self.rate = rate\n",
        "    return self.hours * self.rate\n",
        "class Manager(Employee):\n",
        "  def calculate_salary(self,hours,rate,bonus):\n",
        "    return super().calculate_salary(hours,rate) + bonus"
      ],
      "metadata": {
        "id": "4CrVTTvWLU_C"
      },
      "execution_count": null,
      "outputs": []
    },
    {
      "cell_type": "code",
      "source": [
        "m1 = Manager()"
      ],
      "metadata": {
        "id": "ijDjwDLIQohU"
      },
      "execution_count": null,
      "outputs": []
    },
    {
      "cell_type": "code",
      "source": [
        "m1.calculate_salary(6,90,5000)"
      ],
      "metadata": {
        "colab": {
          "base_uri": "https://localhost:8080/"
        },
        "id": "R-YRoWauQtdw",
        "outputId": "64249160-12c1-44a9-bcb1-56fc3ba707ab"
      },
      "execution_count": null,
      "outputs": [
        {
          "output_type": "execute_result",
          "data": {
            "text/plain": [
              "5540"
            ]
          },
          "metadata": {},
          "execution_count": 94
        }
      ]
    },
    {
      "cell_type": "markdown",
      "source": [
        "15. Create a class Product with attributes name, price, and quantity. Implement a method total_price() that calculates the total price of the product."
      ],
      "metadata": {
        "id": "0i9ka2EXG70D"
      }
    },
    {
      "cell_type": "code",
      "source": [
        "class Product:\n",
        "  def __init__(self,name,price,quantity):\n",
        "    self.name = name\n",
        "    self.price = price\n",
        "    self.quantity = quantity\n",
        "  def total_price(self):\n",
        "    print(\"total price of the product is =>\",self.price * self.quantity)"
      ],
      "metadata": {
        "id": "7PW3oHLCQ6wT"
      },
      "execution_count": 1,
      "outputs": []
    },
    {
      "cell_type": "code",
      "source": [
        "p1 = Product(\"pen\",10,5)"
      ],
      "metadata": {
        "id": "lFOjmTsBIFB8"
      },
      "execution_count": 2,
      "outputs": []
    },
    {
      "cell_type": "code",
      "source": [
        "p1.total_price()"
      ],
      "metadata": {
        "colab": {
          "base_uri": "https://localhost:8080/"
        },
        "id": "IgI18ivuIPUe",
        "outputId": "0424b3fa-304f-4610-b144-61e01d0b7773"
      },
      "execution_count": 3,
      "outputs": [
        {
          "output_type": "stream",
          "name": "stdout",
          "text": [
            "total price of the product is => 50\n"
          ]
        }
      ]
    },
    {
      "cell_type": "markdown",
      "source": [
        "16. Create a class Animal with an abstract method sound(). Create two derived classes Cow and Sheep that implement the sound() method."
      ],
      "metadata": {
        "id": "ce-bcpnqJTQ5"
      }
    },
    {
      "cell_type": "code",
      "source": [
        "from abc import ABC, abstractmethod\n",
        "class Animal:\n",
        "  def sound(self):\n",
        "    print(\"the all animals make sound\")\n",
        "class Cow(Animal):\n",
        "  def sound(self):\n",
        "    print(\"the cow animal make sound Moo\")\n",
        "class Sheep(Animal):\n",
        "  def sound(self):\n",
        "    print(\"the sheep animal make sound Baa\")"
      ],
      "metadata": {
        "id": "rscvtdxNJYWe"
      },
      "execution_count": 4,
      "outputs": []
    },
    {
      "cell_type": "code",
      "source": [
        "c1 = Cow()\n",
        "c1.sound()"
      ],
      "metadata": {
        "colab": {
          "base_uri": "https://localhost:8080/"
        },
        "id": "sSvN54UbLD98",
        "outputId": "392e7b0f-5a1a-4b4b-8bd2-b9fcb808b1bb"
      },
      "execution_count": 5,
      "outputs": [
        {
          "output_type": "stream",
          "name": "stdout",
          "text": [
            "the cow animal make sound Moo\n"
          ]
        }
      ]
    },
    {
      "cell_type": "code",
      "source": [
        "s1 = Sheep()\n",
        "s1.sound()"
      ],
      "metadata": {
        "colab": {
          "base_uri": "https://localhost:8080/"
        },
        "id": "NmI9cf7MLTo3",
        "outputId": "f14b2542-ea3a-4915-83d7-10a4db2509e2"
      },
      "execution_count": 6,
      "outputs": [
        {
          "output_type": "stream",
          "name": "stdout",
          "text": [
            "the sheep animal make sound Baa\n"
          ]
        }
      ]
    },
    {
      "cell_type": "markdown",
      "source": [
        " 17. Create a class Book with attributes title, author, and year_published. Add a method get_book_info() that returns a formatted string with the book's details."
      ],
      "metadata": {
        "id": "DZjQi3dKLq-f"
      }
    },
    {
      "cell_type": "code",
      "source": [
        "class Book:\n",
        "  def __init__(self,title,author,year_published):\n",
        "    self.title = title\n",
        "    self.author = author\n",
        "    self.year_published = year_published\n",
        "  def get_book_info(self):\n",
        "    return f\"'{self.title}' by {self.author}, published in {self.year_published}\""
      ],
      "metadata": {
        "id": "xI-NquiyLwgR"
      },
      "execution_count": 7,
      "outputs": []
    },
    {
      "cell_type": "code",
      "source": [
        "b1 = Book(\"To Kill a Mockingbird\", \"Harper Lee\", 1960)\n",
        "print(b1.get_book_info())"
      ],
      "metadata": {
        "colab": {
          "base_uri": "https://localhost:8080/"
        },
        "id": "3T9YqHfPOkh9",
        "outputId": "c9077bd1-5e76-4b4d-c07d-481edadf727b"
      },
      "execution_count": 11,
      "outputs": [
        {
          "output_type": "stream",
          "name": "stdout",
          "text": [
            "'To Kill a Mockingbird' by Harper Lee, published in 1960\n"
          ]
        }
      ]
    },
    {
      "cell_type": "markdown",
      "source": [
        " 18. Create a class House with attributes address and price. Create a derived class Mansion that adds an attribute number_of_rooms."
      ],
      "metadata": {
        "id": "jJuTkKNxO1aF"
      }
    },
    {
      "cell_type": "code",
      "source": [
        "class House:\n",
        "  def __init__(self,address,price):\n",
        "    self.address = address\n",
        "    self.price = price\n",
        "class Mansion(House):\n",
        "  def __init__(self,address,price,number_of_rooms):\n",
        "    self.number_of_rooms = number_of_rooms\n",
        "    super().__init__(address,price)"
      ],
      "metadata": {
        "id": "n1XiIlqrPOuU"
      },
      "execution_count": 23,
      "outputs": []
    },
    {
      "cell_type": "code",
      "source": [
        "h1 = Mansion(\"123 Main St\",250000,8)"
      ],
      "metadata": {
        "id": "VppLr26TPbd7"
      },
      "execution_count": 24,
      "outputs": []
    },
    {
      "cell_type": "code",
      "source": [
        "h1.address"
      ],
      "metadata": {
        "colab": {
          "base_uri": "https://localhost:8080/",
          "height": 36
        },
        "id": "x9MNv-6QPfqW",
        "outputId": "37bf6476-9386-4f0f-9c03-eef679cbd3fe"
      },
      "execution_count": 25,
      "outputs": [
        {
          "output_type": "execute_result",
          "data": {
            "text/plain": [
              "'123 Main St'"
            ],
            "application/vnd.google.colaboratory.intrinsic+json": {
              "type": "string"
            }
          },
          "metadata": {},
          "execution_count": 25
        }
      ]
    },
    {
      "cell_type": "code",
      "source": [
        "h1.price"
      ],
      "metadata": {
        "colab": {
          "base_uri": "https://localhost:8080/"
        },
        "id": "2Vbhikb8PjNA",
        "outputId": "2e8eaa7a-e2e2-44b9-9320-9bac8367e31e"
      },
      "execution_count": 26,
      "outputs": [
        {
          "output_type": "execute_result",
          "data": {
            "text/plain": [
              "250000"
            ]
          },
          "metadata": {},
          "execution_count": 26
        }
      ]
    },
    {
      "cell_type": "code",
      "source": [
        "h1.number_of_rooms"
      ],
      "metadata": {
        "colab": {
          "base_uri": "https://localhost:8080/"
        },
        "id": "7kw5MgMFPmYB",
        "outputId": "f583ded9-a917-40d6-d850-b62787877b81"
      },
      "execution_count": 27,
      "outputs": [
        {
          "output_type": "execute_result",
          "data": {
            "text/plain": [
              "8"
            ]
          },
          "metadata": {},
          "execution_count": 27
        }
      ]
    }
  ]
}